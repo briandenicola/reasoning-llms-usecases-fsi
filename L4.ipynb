{
 "cells": [
  {
   "cell_type": "markdown",
   "id": "0b20def1-6b20-439e-a958-a48cef75a8c7",
   "metadata": {
    "id": "FbWoGOis4KoG"
   },
   "source": [
    "# Reasoning usecases : Models comparison o1 vs gpt-4o"
   ]
  },
  {
   "cell_type": "code",
   "execution_count": 9,
   "id": "f9ff70b6-24a5-4063-aad8-74ca6f599b9e",
   "metadata": {
    "height": 132
   },
   "outputs": [],
   "source": [
    "from pydantic import BaseModel, Field\n",
    "from openai import AzureOpenAI\n",
    "import os\n",
    "from dotenv import load_dotenv\n",
    "import json\n",
    "import copy\n",
    "import textwrap\n",
    "import warnings\n",
    "warnings.filterwarnings('ignore')\n",
    "from IPython.display import display, Image, Markdown\n",
    "# Load environment variables\n",
    "load_dotenv(\"./.env\")\n",
    "\n",
    "client = AzureOpenAI(  \n",
    "    api_version=\"2024-12-01-preview\",  \n",
    "    azure_endpoint=os.getenv(\"AZURE_OPENAI_ENDPOINT\"),  \n",
    "    api_key=os.getenv(\"AZURE_OPENAI_API_KEY\")  \n",
    ")  \n",
    "\n",
    "GPT_MODEL = 'gpt-40-globalStandard'\n",
    "O1_MODEL = 'o1'"
   ]
  },
  {
   "cell_type": "markdown",
   "id": "c01020d6-216d-4282-a8d3-3c39add59505",
   "metadata": {},
   "source": [
    "## Create\n",
    "\n"
   ]
  },
  {
   "cell_type": "code",
   "execution_count": 3,
   "id": "c7ad01af-c3f9-411d-b190-978f913e07c4",
   "metadata": {
    "height": 234
   },
   "outputs": [],
   "source": [
    "def get_chat_completion(model, prompt):\n",
    "    \"\"\"\n",
    "    Calls the OpenAI API to get a chat completion.\n",
    "\n",
    "    :param model: The model to use for the completion.\n",
    "    :param prompt: The prompt to send to the model.\n",
    "    :return: The completion response from the model.\n",
    "    \"\"\"\n",
    "    response = client.chat.completions.create(\n",
    "        model=model,\n",
    "        messages=[{\"role\": \"user\", \"content\": prompt}],\n",
    "    )\n",
    "    return response.choices[0].message.content"
   ]
  },
  {
   "cell_type": "code",
   "execution_count": 10,
   "id": "3fecabdc-9fea-4e71-bf61-ad56c2ee45c2",
   "metadata": {
    "height": 317
   },
   "outputs": [],
   "source": [
    "demo_prompt = \"\"\"You are an expert insurance consultant with extensive knowledge of state regulations, small-business risk management, and commercial insurance underwriting. \n",
    "\n",
    "Read the following background carefully, then produce a detailed insurance plan recommendation. \n",
    "\n",
    "Background: \n",
    "- The client, Sarah Barnes, runs a bakery/café in Tampa, Florida, with 12 employees and annual revenue of $850,000. \n",
    "- Key concerns: hurricane damage, slip-and-fall liability, workers’ compensation, potential cyber threats from digital payment systems, and managing costs. \n",
    "\n",
    "Task: \n",
    "1. Identify the necessary core coverage types (e.g., Commercial Property, General Liability, Workers’ Compensation) along with recommended policy limits. \n",
    "2. Provide an optional “add-on” coverage list relevant to a bakery/café in a hurricane-prone area (e.g., Commercial Flood Insurance, Business Interruption Insurance, Cyber Liability Coverage). \n",
    "3. Estimate an illustrative premium range for each coverage type, keeping in mind her budget constraints. \n",
    "4. Offer specific steps and advice on how to reduce premiums (e.g., risk mitigation, safety protocols, bundling discounts). \n",
    "5. Ensure any details about Florida regulations or specific coverage exclusions are highlighted in plain language. \n",
    "6. Summarize in a concise, bullet-point format. \n",
    "\n",
    "Be as specific as possible. For example, if recommending Business Interruption Insurance, indicate typical coverage triggers (e.g., mandatory evacuation orders for hurricanes, physical property damage), typical coverage duration, and approximate cost ratio relative to annual revenue.\"\"\""
   ]
  },
  {
   "cell_type": "code",
   "execution_count": 14,
   "id": "e9ff5752-acb0-4bb1-adb3-58ce2ac1133f",
   "metadata": {
    "height": 30
   },
   "outputs": [],
   "source": [
    "gpt_output = get_chat_completion(GPT_MODEL, demo_prompt)"
   ]
  },
  {
   "cell_type": "code",
   "execution_count": 15,
   "id": "fa6c37dd-8ec5-4ed7-9cfd-0259867cd4fd",
   "metadata": {
    "height": 30
   },
   "outputs": [
    {
     "name": "stdout",
     "output_type": "stream",
     "text": [
      "Below is a detailed insurance plan recommendation for Sarah Barnes’ Tampa bakery/café:\n",
      "\n",
      "• Core Coverages  \n",
      " – Commercial Property Insurance  \n",
      "  • Recommended Limit: Approximately $500,000 (adjusted based on actual property value and equipment investments)  \n",
      "  • Purpose: Covers damage to the building, equipment, inventory, and interiors (including losses from hurricane damage)  \n",
      "  • Estimated Annual Premium: $1,500 – $3,000  \n",
      " – General Liability Insurance  \n",
      "  • Recommended Limit: $1 million per occurrence / $2 million aggregate  \n",
      "  • Purpose: Protects against claims for slip‐and‐fall accidents and other third‐party bodily injury or property damage incidents  \n",
      "  • Estimated Annual Premium: $2,000 – $4,000  \n",
      " – Workers’ Compensation Insurance  \n",
      "  • Coverage Requirement: Mandated in Florida  \n",
      "  • Purpose: Covers medical bills and lost wages for employees injured on the job  \n",
      "  • Estimated Annual Premium: $3,000 – $6,000 (depends on payroll amounts/distribution among 12 employees)\n",
      "\n",
      "• Optional “Add-On” Coverages (Especially Relevant in a Hurricane-Prone Area)  \n",
      " – Commercial Flood Insurance  \n",
      "  • Why: Most standard property policies exclude flood damage—which is common with hurricanes  \n",
      "  • Recommended Coverage: Based on location and building value (typically aligned with the property’s replacement cost)  \n",
      "  • Estimated Annual Premium: $500 – $1,500  \n",
      " – Business Interruption Insurance  \n",
      "  • Why: Helps cover lost income during periods when the business must shut down due to physical damage or in response to mandatory evacuation orders  \n",
      "  • Typical Triggers: Hurricane-induced physical damage, government-mandated closures, or a combination of both  \n",
      "  • Coverage Duration: Typically 12 to 24 months of lost income  \n",
      "  • Cost Ratio: Usually 2%–5% of annual revenue (in this case, about $17,000–$42,500 in potential coverage value; annual premium may vary on the lower end when bundled with property coverage)  \n",
      " – Cyber Liability Coverage  \n",
      "  • Why: To protect against data breaches or cyberattacks on digital payment systems  \n",
      "  • Recommended Limit: Coverage from $250,000 to $1 million  \n",
      "  • Estimated Annual Premium: $500 – $2,000  \n",
      " – Equipment Breakdown Coverage (Optional)  \n",
      "  • Why: Covers sudden and accidental mechanical or electrical breakdowns of critical kitchen equipment  \n",
      "  • Can be added on to the Commercial Property policy if the bakery’s equipment represents a significant investment  \n",
      "\n",
      "• Premium Reduction Strategies  \n",
      " – Risk Mitigation and Safety Protocols:  \n",
      "  • Install slip-resistant flooring and regular maintenance routines to minimize liability claims  \n",
      "  • Implement comprehensive employee safety training and documentation to lower workers’ compensation claims  \n",
      "  • Adopt robust cybersecurity measures (e.g., secured networks, regular software updates, and employee phishing training) to reduce cyber risk  \n",
      " – Property Enhancements:  \n",
      "  • Invest in hurricane protection measures such as impact-resistant windows, storm shutters, and reinforced roofing to potentially lower property premiums  \n",
      " – Policy Bundling:  \n",
      "  • Shop for bundled packages (combining property, liability, and business interruption coverages) which often offer multi-policy discounts  \n",
      " – Higher Deductibles:  \n",
      "  • Choosing a higher deductible can lower premium costs, but be sure a reserve is available to cover the deductible during a claim  \n",
      " – Regular Review:  \n",
      "  • Annually review the business’s risk profile and adjust coverages as necessary to avoid paying for excess or unneeded insurance\n",
      "\n",
      "• Florida-Specific Considerations  \n",
      " – Hurricanes & Flooding:  \n",
      "  • Many Florida property policies specifically exclude flood damage, so obtaining separate Commercial Flood Insurance is essential  \n",
      "  • Document any hurricane protection improvements to show insurers that risk is being actively mitigated  \n",
      " – Regulatory Compliance:  \n",
      "  • Ensure that Workers’ Compensation coverage meets Florida’s minimum statutory requirements; consult with a local expert to stay updated on any regulatory changes  \n",
      "  • Be aware that Florida insurers may include specific exclusions or conditions related to hurricane and wind damage that require reading policy details carefully\n",
      "\n",
      "This comprehensive plan addresses Sarah’s major concerns—protecting her property, managing liability for slip-and-fall incidents, providing for employee injuries, and safeguarding against cyber threats—all while considering the realities of operating in a hurricane-prone zone and keeping premiums manageable.\n"
     ]
    }
   ],
   "source": [
    "print(gpt_output)"
   ]
  },
  {
   "cell_type": "code",
   "execution_count": 16,
   "id": "064c42b6-e79e-4172-b2cf-1f7d5f0d0dd2",
   "metadata": {
    "height": 30
   },
   "outputs": [],
   "source": [
    "o1_output = get_chat_completion(O1_MODEL, demo_prompt)"
   ]
  },
  {
   "cell_type": "code",
   "execution_count": 17,
   "id": "bfa04398-ccf6-4f98-b343-b9987d145e9b",
   "metadata": {
    "height": 30
   },
   "outputs": [
    {
     "name": "stdout",
     "output_type": "stream",
     "text": [
      "Below is a detailed insurance plan recommendation for Sarah Barnes’ bakery/café in Tampa, Florida:\n",
      "\n",
      "• Core Coverage Types  \n",
      " – Commercial Property Insurance  \n",
      "  • Coverage: Protects physical assets (building, equipment, inventory) against perils including wind, fire, and limited hurricane damage per policy terms.  \n",
      "  • Recommended Limit: Approximately $1,000,000 (this may need adjustment based on property appraisals).  \n",
      "  • Illustrative Premium: Estimated at $4,000–$8,000 per year depending on location, building quality, and risk factors.  \n",
      " – General Liability Insurance  \n",
      "  • Coverage: Addresses slip-and-fall incidents, product liability, and third-party bodily injury/property damage.  \n",
      "  • Recommended Limit: Minimum of $2,000,000 per occurrence; higher limits recommended given public exposure.  \n",
      "  • Illustrative Premium: Around $1,500–$3,500 per year.  \n",
      " – Workers’ Compensation  \n",
      "  • Coverage: Provides benefits for work-related injuries or illnesses for 12 employees.  \n",
      "  • Policy Note: Required by Florida law for businesses with any employees, though Florida’s specific rates are impacted by industry and claim history.  \n",
      "  • Illustrative Premium: Approximately $2,000–$5,000 per year, depending on payroll and job risk classifications.  \n",
      "\n",
      "• Optional “Add-On” Coverages  \n",
      " – Commercial Flood Insurance  \n",
      "  • Coverage: Covers damage from flooding, which standard property policies typically exclude, especially critical in hurricane-prone areas.  \n",
      "  • Policy Note: Florida insurers often require separate flood endorsements with unique deductibles and conditions.  \n",
      "  • Illustrative Premium: Roughly $1,000–$3,000 per year, based on flood zones and property elevation.  \n",
      " – Business Interruption Insurance  \n",
      "  • Coverage: Compensates for lost income and operating expenses due to a covered event.  \n",
      "  • Typical Triggers: Mandatory evacuation orders for hurricanes, physical property damage that halts operations.  \n",
      "  • Coverage Duration: Commonly covers periods from 6–12 months after the incident.  \n",
      "  • Illustrative Cost Ratio: Typically adds about 0.5%–1% to annual revenue (approximately $4,250–$8,500 per year in this scenario).  \n",
      " – Cyber Liability Coverage  \n",
      "  • Coverage: Protects against data breaches and liabilities arising from digital payment processing and cyber attacks.  \n",
      "  • Policy Note: Particularly relevant if Sarah’s systems store any customer data or handle online payments.  \n",
      "  • Illustrative Premium: Approximately $800–$2,000 per year, depending on data security measures and coverage limits.  \n",
      "\n",
      "• Steps & Advice to Reduce Premiums  \n",
      " – Risk Mitigation & Safety Protocols:  \n",
      "  • Enhance building safety (e.g., installing hurricane shutters, roof reinforcements, and state-of-the-art fire suppression systems).  \n",
      "  • Implement rigorous employee training on slip-and-fall prevention and workplace safety to reduce workers’ comp claims risk.  \n",
      "  • Institute cybersecurity best practices (secure payment systems, regular software updates, employee cyber awareness) to lower cyber liability risk.  \n",
      " – Bundling Discounts:  \n",
      "  • Consider bundling multiple coverages with one insurer to receive multi-policy discounts.  \n",
      " – Regular Maintenance & Documentation:  \n",
      "  • Maintain detailed records of property improvements, repairs, and safety upgrades. This documentation can help negotiate better rates and support claims when needed.  \n",
      "\n",
      "• Key Florida Regulatory Notes (in Plain Language)  \n",
      " – Flood and Hurricane Exclusions:  \n",
      "  • Standard property policies in Florida often exclude flood damage, so a separate flood policy is necessary.  \n",
      "  • Insurers may impose a hurricane deductible that is higher than standard deductibles when hurricane-related damage is claimed.  \n",
      " – Workers’ Compensation:  \n",
      "  • Florida requires businesses with employees to carry workers’ compensation insurance, and rates are influenced by the nature of work performed at the business.  \n",
      "\n",
      "• Summary (Bullet-Point Format)  \n",
      " • Commercial Property Insurance  \n",
      "  – Limit: ~$1,000,000; Premium: ~$4,000–$8,000/year  \n",
      "  – Protects building, equipment, inventory; be aware of hurricane-specific deductibles  \n",
      " • General Liability Insurance  \n",
      "  – Limit: Minimum $2,000,000 per occurrence; Premium: ~$1,500–$3,500/year  \n",
      "  – Covers slip-and-fall incidents and customer injuries  \n",
      " • Workers’ Compensation  \n",
      "  – For 12 employees; Premium: ~$2,000–$5,000/year  \n",
      "  – Compliance with Florida law, adjusted for job risks  \n",
      " • Optional Coverages  \n",
      "  – Commercial Flood Insurance: $1,000–$3,000/year (needed for hurricanes/floods)  \n",
      "  – Business Interruption Insurance: Triggered by mandatory evacuations or property damage; covers 6–12 months; adds ~0.5%–1% of revenue ($4,250–$8,500/year)  \n",
      "  – Cyber Liability: $800–$2,000/year; protects against digital threat risks  \n",
      " • Premium Reduction Tips  \n",
      "  – Improve property and cyber safety measures  \n",
      "  – Bundle policies to secure discounts  \n",
      "  – Maintain regular safety and maintenance records  \n",
      " • Florida-Specific Details  \n",
      "  – Separately required flood coverage and higher hurricane deductibles  \n",
      "  – State-mandated workers’ compensation coverage compliance  \n",
      "\n",
      "This comprehensive plan is designed to cover Sarah’s immediate risks while keeping an eye on budget. It is advisable to review the plan with a licensed insurance agent in Florida to customize limits, adjust coverages, and ensure compliance with local regulations.\n"
     ]
    }
   ],
   "source": [
    "print(o1_output)"
   ]
  },
  {
   "cell_type": "code",
   "execution_count": 19,
   "id": "8664691d-37e7-4198-9fcf-2b1d3fc0500d",
   "metadata": {
    "height": 62
   },
   "outputs": [
    {
     "data": {
      "text/markdown": [
       "Option 1 is the stronger output for several reasons:\n",
       "\n",
       "1. Comprehensive Depth and Clarity:\n",
       " • Option 1 provides detailed explanations for each coverage, breaking down why it’s needed (for example, noting the specific risks from hurricanes and the importance of equipment breakdown coverage). This not only lists coverages but also explains the rationale behind each recommendation.\n",
       " • The clear definitions of “Core Coverages” versus “Optional Add-On Coverages” help the reader understand which policies are essential versus those that can be tailored to the bakery’s particular risks.\n",
       "\n",
       "2. Detailed Premium Estimates and Risk Mitigation:\n",
       " • Option 1 includes more granular estimated premium ranges for each policy, which is crucial for a small-business owner planning a budget.\n",
       " • It goes further by offering multiple premium reduction strategies such as investing in hurricane protection measures, bundling policies, and improving safety protocols. This practical advice bridges the gap between underwriting theory and actionable risk management.\n",
       "\n",
       "3. Tailored Regional Considerations:\n",
       " • The output explicitly addresses Florida-specific challenges, especially related to hurricanes and flood damage. It emphasizes that most property policies exclude flood damage and stresses the need for separate Commercial Flood Insurance.\n",
       " • The explanation of regulatory requirements—like Workers’ Compensation mandates in Florida—is clearly outlined, ensuring the plan is compliant with state laws.\n",
       "\n",
       "4. Holistic and Nuanced Presentation:\n",
       " • Option 1 balances technical precision (with specific limits and descriptions) and user-friendly advice by including a section dedicated to risk reduction and regular review of coverages.\n",
       " • The additional nuances, such as the potential benefits of higher deductibles and documenting risk mitigation measures, make the recommendation not just a list of policies but a strategic roadmap for reducing overall risk and managing premium costs.\n",
       "\n",
       "While Option 2 also offers solid structure and detailed recommendations, its relatively higher coverage limits and shorter list of nuanced strategies might not address the unique operational and risk challenges as thoroughly as Option 1. In a complex, hurricane-prone environment like Tampa, where small businesses need to carefully manage both cost and coverage scope, Option 1’s comprehensive approach and practical details make it more useful and better tailored to Sarah Barnes’ bakery/café needs."
      ],
      "text/plain": [
       "<IPython.core.display.Markdown object>"
      ]
     },
     "metadata": {},
     "output_type": "display_data"
    }
   ],
   "source": [
    "result = get_chat_completion(O1_MODEL,f\"You are an expert insurance consultant with extensive knowledge of state regulations, small-business risk management, and commercial insurance underwriting. Which output is better and why? Option 1: {gpt_output}... or Option 2: {o1_output}\")\n",
    "display(Markdown(result))"
   ]
  },
  {
   "cell_type": "code",
   "execution_count": null,
   "id": "8334bbf9-f93f-405b-96bd-076782c2c31c",
   "metadata": {
    "height": 30
   },
   "outputs": [],
   "source": []
  }
 ],
 "metadata": {
  "kernelspec": {
   "display_name": "venv-lab",
   "language": "python",
   "name": "python3"
  },
  "language_info": {
   "codemirror_mode": {
    "name": "ipython",
    "version": 3
   },
   "file_extension": ".py",
   "mimetype": "text/x-python",
   "name": "python",
   "nbconvert_exporter": "python",
   "pygments_lexer": "ipython3",
   "version": "3.10.12"
  }
 },
 "nbformat": 4,
 "nbformat_minor": 5
}
